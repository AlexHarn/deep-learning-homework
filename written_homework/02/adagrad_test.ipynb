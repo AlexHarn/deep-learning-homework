{
 "cells": [
  {
   "cell_type": "code",
   "execution_count": 1,
   "metadata": {},
   "outputs": [],
   "source": [
    "import numpy as np"
   ]
  },
  {
   "cell_type": "code",
   "execution_count": 2,
   "metadata": {},
   "outputs": [],
   "source": [
    "x1 = np.array([2, 1])\n",
    "t = 2"
   ]
  },
  {
   "cell_type": "code",
   "execution_count": 3,
   "metadata": {},
   "outputs": [],
   "source": [
    "def dL(w):\n",
    "    return np.array([[8, 4], [4, 2]])@w - 4*x1"
   ]
  },
  {
   "cell_type": "code",
   "execution_count": 4,
   "metadata": {},
   "outputs": [],
   "source": [
    "def ada_step(w, eta, G):\n",
    "    grad = dL(w)\n",
    "    w[0] -= eta/( np.sqrt(G[0]) )*grad[0]\n",
    "    w[1] -= eta/( np.sqrt(G[1]) )*grad[1]\n",
    "    \n",
    "    G += grad**2\n",
    "    return w, G"
   ]
  },
  {
   "cell_type": "code",
   "execution_count": 5,
   "metadata": {},
   "outputs": [],
   "source": [
    "eta = 0.01\n",
    "G = np.ones(2)\n",
    "w_ada = np.zeros(2)\n",
    "w_regular = np.zeros(2)\n",
    "\n",
    "for i in range(1000000):\n",
    "    w_ada, G = ada_step(w_ada, eta, G)\n",
    "    w_regular -= eta*dL(w_regular)  # regular GD"
   ]
  },
  {
   "cell_type": "code",
   "execution_count": 9,
   "metadata": {},
   "outputs": [
    {
     "name": "stdout",
     "output_type": "stream",
     "text": [
      "Theoretical Solution: [0.8 0.4]\n",
      "Gradient at theoretical Solution: [0. 0.]\n",
      "GD Solution: [0.8 0.4]\n",
      "Gradient at GD Solution: [-5.32907052e-15 -2.66453526e-15]\n",
      "Prediction of GD Solution: 1.9999999999999987\n",
      "AdaGrad Solution: [0.68022007 0.63955986]\n",
      "Gradient at AdaGrad Solution: [-6.37712105e-13 -3.18856053e-13]\n",
      "Prediction of Adagrad Solution: 1.9999999999998406\n"
     ]
    }
   ],
   "source": [
    "print(\"Theoretical Solution:\", 2/5*x1)\n",
    "print(\"Gradient at theoretical Solution:\", dL(2/5*x1))\n",
    "print(\"GD Solution:\", w_regular)\n",
    "print(\"Gradient at GD Solution:\", dL(w_regular))\n",
    "print(\"Prediction of GD Solution:\", x1@w_regular)\n",
    "print(\"AdaGrad Solution:\", w_ada)\n",
    "print(\"Gradient at AdaGrad Solution:\", dL(w_ada))\n",
    "print(\"Prediction of Adagrad Solution:\", x1@w_ada)"
   ]
  },
  {
   "cell_type": "code",
   "execution_count": null,
   "metadata": {},
   "outputs": [],
   "source": []
  }
 ],
 "metadata": {
  "kernelspec": {
   "display_name": "Python 3",
   "language": "python",
   "name": "python3"
  },
  "language_info": {
   "codemirror_mode": {
    "name": "ipython",
    "version": 3
   },
   "file_extension": ".py",
   "mimetype": "text/x-python",
   "name": "python",
   "nbconvert_exporter": "python",
   "pygments_lexer": "ipython3",
   "version": "3.7.3"
  }
 },
 "nbformat": 4,
 "nbformat_minor": 2
}
